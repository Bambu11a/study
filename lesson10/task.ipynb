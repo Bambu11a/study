{
 "cells": [
  {
   "cell_type": "code",
   "execution_count": 111,
   "metadata": {},
   "outputs": [],
   "source": [
    "import sqlalchemy as db"
   ]
  },
  {
   "cell_type": "code",
   "execution_count": 112,
   "metadata": {},
   "outputs": [],
   "source": [
    "engine = db.create_engine(\"sqlite:///mydb.db\")\n",
    "conn = engine.connect()\n",
    "metadata = db.MetaData()\n"
   ]
  },
  {
   "cell_type": "code",
   "execution_count": 113,
   "metadata": {},
   "outputs": [],
   "source": [
    "Company = db.Table(\"Company\",metadata,\n",
    "                db.Column(\"id\",db.Integer,primary_key=True),\n",
    "                db.Column(\"name\",db.Text))"
   ]
  },
  {
   "cell_type": "code",
   "execution_count": 114,
   "metadata": {},
   "outputs": [],
   "source": [
    "Trip = db.Table(\"Trip\",metadata,\n",
    "                db.Column(\"id\",db.Integer,primary_key=True),\n",
    "                db.Column(\"company\",db.Integer,db.ForeignKey(\"Company.id\")),\n",
    "                db.Column(\"from_\",db.Text),\n",
    "                db.Column(\"to_\",db.Text))"
   ]
  },
  {
   "cell_type": "code",
   "execution_count": 115,
   "metadata": {},
   "outputs": [],
   "source": [
    "Passangers = db.Table(\"Passangers\",metadata,\n",
    "                db.Column(\"id\",db.Integer,primary_key=True),\n",
    "                db.Column(\"name\",db.Text)\n",
    "                )"
   ]
  },
  {
   "cell_type": "code",
   "execution_count": 116,
   "metadata": {},
   "outputs": [],
   "source": [
    "Pass_in_trip = db.Table(\"Pass_trip\",metadata,\n",
    "                db.Column(\"id\",db.Integer,primary_key=True),\n",
    "                db.Column(\"trip\",db.Integer,db.ForeignKey(\"Trip.id\")),\n",
    "                db.Column(\"passanger\",db.Integer,db.ForeignKey(\"Passangers.id\")),\n",
    "                db.Column(\"place\",db.Text))"
   ]
  },
  {
   "cell_type": "code",
   "execution_count": 117,
   "metadata": {},
   "outputs": [],
   "source": [
    "metadata.create_all(engine)"
   ]
  },
  {
   "cell_type": "code",
   "execution_count": 118,
   "metadata": {},
   "outputs": [
    {
     "data": {
      "text/plain": [
       "<sqlalchemy.engine.cursor.CursorResult at 0x7f6be4ba5640>"
      ]
     },
     "execution_count": 118,
     "metadata": {},
     "output_type": "execute_result"
    }
   ],
   "source": [
    "conn.execute(\n",
    "    Company.insert().values([\n",
    "        {\"name\":\"Belavia\"},\n",
    "        {\"name\":\"Aeroflot\"},\n",
    "        {\"name\":\"Pobeda\"}\n",
    "    ])\n",
    ")"
   ]
  },
  {
   "cell_type": "code",
   "execution_count": 119,
   "metadata": {},
   "outputs": [
    {
     "data": {
      "text/plain": [
       "<sqlalchemy.engine.cursor.CursorResult at 0x7f6bd37ed460>"
      ]
     },
     "execution_count": 119,
     "metadata": {},
     "output_type": "execute_result"
    }
   ],
   "source": [
    "conn.execute(\n",
    "    Trip.insert().values([\n",
    "        {\"company\": 1, \"from_\":\"Moscow\", \"to_\":\"Minsk\"},\n",
    "        {\"company\": 2, \"from_\":\"Moscow\", \"to_\":\"Berlin\"},\n",
    "        {\"company\": 3, \"from_\":\"London\", \"to_\":\"Warsaw\"}\n",
    "    ])\n",
    ")"
   ]
  },
  {
   "cell_type": "code",
   "execution_count": 120,
   "metadata": {},
   "outputs": [
    {
     "data": {
      "text/plain": [
       "<sqlalchemy.engine.cursor.CursorResult at 0x7f6be4b7fca0>"
      ]
     },
     "execution_count": 120,
     "metadata": {},
     "output_type": "execute_result"
    }
   ],
   "source": [
    "conn.execute(\n",
    "    Passangers.insert().values([\n",
    "        {\"name\": \"Устинов Терентий\"},\n",
    "        {\"name\": \"Бобылёв Юстин\"},\n",
    "        {\"name\": \"Доронин Август\"},\n",
    "        {\"name\": \"Мартынов Роберт\"},\n",
    "        {\"name\": \"Комаров Валентин\"},\n",
    "        {\"name\": \"Мышкин Клим\"},\n",
    "        {\"name\": \"Никонов Руслан \"},\n",
    "        {\"name\": \"Кузнецов Аверкий \"},\n",
    "        {\"name\": \"Фадеев Владимир\"}\n",
    "    ])\n",
    ")"
   ]
  },
  {
   "cell_type": "code",
   "execution_count": 121,
   "metadata": {},
   "outputs": [
    {
     "data": {
      "text/plain": [
       "<sqlalchemy.engine.cursor.CursorResult at 0x7f6be4404dc0>"
      ]
     },
     "execution_count": 121,
     "metadata": {},
     "output_type": "execute_result"
    }
   ],
   "source": [
    "import random\n",
    "\n",
    "conn.execute(\n",
    "    Pass_in_trip.insert().values([\n",
    "        {\"trip\": random.randint(1,3), \"passanger\":1, \"place\":\"1c\"},\n",
    "        {\"trip\": random.randint(1,3), \"passanger\":2, \"place\":\"13b\"},\n",
    "        {\"trip\": random.randint(1,3), \"passanger\":3, \"place\":\"5a\"},\n",
    "        {\"trip\": random.randint(1,3), \"passanger\":4, \"place\":\"23d\"},\n",
    "        {\"trip\": random.randint(1,3), \"passanger\":5, \"place\":\"1b\"},\n",
    "        {\"trip\": random.randint(1,3), \"passanger\":6, \"place\":\"9a\"},\n",
    "        {\"trip\": random.randint(1,3), \"passanger\":7, \"place\":\"7c\"},\n",
    "        {\"trip\": random.randint(1,3), \"passanger\":8, \"place\":\"19c\"},\n",
    "        {\"trip\": random.randint(1,3), \"passanger\":9, \"place\":\"10b\"},\n",
    "    ])\n",
    ")"
   ]
  },
  {
   "cell_type": "code",
   "execution_count": 122,
   "metadata": {},
   "outputs": [
    {
     "data": {
      "text/plain": [
       "[(1, 3, 1, '1c'),\n",
       " (2, 1, 2, '13b'),\n",
       " (3, 1, 3, '5a'),\n",
       " (4, 3, 4, '23d'),\n",
       " (5, 3, 5, '1b'),\n",
       " (6, 3, 6, '9a'),\n",
       " (7, 2, 7, '7c'),\n",
       " (8, 2, 8, '19c'),\n",
       " (9, 2, 9, '10b')]"
      ]
     },
     "execution_count": 122,
     "metadata": {},
     "output_type": "execute_result"
    }
   ],
   "source": [
    "conn.exec_driver_sql(\"SELECT \"\n",
    "                      \"   *\" \n",
    "                      \"FROM \" \n",
    "                      \"   Pass_trip AS pt \").fetchall()"
   ]
  },
  {
   "cell_type": "code",
   "execution_count": 123,
   "metadata": {},
   "outputs": [
    {
     "data": {
      "text/plain": [
       "[(1, 1, 'Moscow', 'Minsk'),\n",
       " (2, 2, 'Moscow', 'Berlin'),\n",
       " (3, 3, 'London', 'Warsaw')]"
      ]
     },
     "execution_count": 123,
     "metadata": {},
     "output_type": "execute_result"
    }
   ],
   "source": [
    "conn.exec_driver_sql(\"SELECT \"\n",
    "                      \"   *\" \n",
    "                      \"FROM \" \n",
    "                      \"   Trip\").fetchall()"
   ]
  },
  {
   "cell_type": "code",
   "execution_count": 124,
   "metadata": {},
   "outputs": [
    {
     "data": {
      "text/plain": [
       "[(1, 'Устинов Терентий'),\n",
       " (2, 'Бобылёв Юстин'),\n",
       " (3, 'Доронин Август'),\n",
       " (4, 'Мартынов Роберт'),\n",
       " (5, 'Комаров Валентин'),\n",
       " (6, 'Мышкин Клим'),\n",
       " (7, 'Никонов Руслан '),\n",
       " (8, 'Кузнецов Аверкий '),\n",
       " (9, 'Фадеев Владимир')]"
      ]
     },
     "execution_count": 124,
     "metadata": {},
     "output_type": "execute_result"
    }
   ],
   "source": [
    "conn.exec_driver_sql(\"SELECT \"\n",
    "                      \"   *\" \n",
    "                      \"FROM \" \n",
    "                      \"   Passangers\").fetchall()"
   ]
  },
  {
   "cell_type": "code",
   "execution_count": 125,
   "metadata": {},
   "outputs": [
    {
     "data": {
      "text/plain": [
       "[(1, 'Belavia'), (2, 'Aeroflot'), (3, 'Pobeda')]"
      ]
     },
     "execution_count": 125,
     "metadata": {},
     "output_type": "execute_result"
    }
   ],
   "source": [
    "conn.exec_driver_sql(\"SELECT \"\n",
    "                      \"   *\" \n",
    "                      \"FROM \" \n",
    "                      \"   Company\").fetchall()"
   ]
  },
  {
   "cell_type": "code",
   "execution_count": 129,
   "metadata": {},
   "outputs": [],
   "source": [
    "conn.exec_driver_sql(\"SELECT \"\n",
    "                      \"  pass.name, c.name, pt.place, t.to_, t.from_ \" \n",
    "                      \"FROM \" \n",
    "                      \"   Pass_trip AS pt \"\n",
    "                      \"JOIN \"\n",
    "                      \"   Passangers AS pass ON pt.passanger = pass.id \"\n",
    "                      \"JOIN \"\n",
    "                      \"   Trip AS t ON pt.trip = t.id \"\n",
    "                      \"JOIN \"\n",
    "                      \"   Company AS c ON t.company = c.id\"\n",
    "                      ).fetchall()"
   ]
  },
  {
   "cell_type": "code",
   "execution_count": 130,
   "metadata": {},
   "outputs": [
    {
     "data": {
      "text/plain": [
       "[('Aeroflot',), ('Belavia',), ('Pobeda',)]"
      ]
     },
     "execution_count": 130,
     "metadata": {},
     "output_type": "execute_result"
    }
   ],
   "source": [
    "conn.exec_driver_sql(\"SELECT \"\n",
    "                      \"  name \" \n",
    "                      \"FROM \" \n",
    "                      \"   Company \"\n",
    "                      \"ORDER BY name\"\n",
    "                      ).fetchall()"
   ]
  },
  {
   "cell_type": "code",
   "execution_count": 131,
   "metadata": {},
   "outputs": [
    {
     "data": {
      "text/plain": [
       "[('Aeroflot',),\n",
       " ('Belavia',),\n",
       " ('Pobeda',),\n",
       " ('Бобылёв Юстин',),\n",
       " ('Доронин Август',),\n",
       " ('Комаров Валентин',),\n",
       " ('Кузнецов Аверкий ',),\n",
       " ('Мартынов Роберт',),\n",
       " ('Мышкин Клим',),\n",
       " ('Никонов Руслан ',),\n",
       " ('Устинов Терентий',),\n",
       " ('Фадеев Владимир',)]"
      ]
     },
     "execution_count": 131,
     "metadata": {},
     "output_type": "execute_result"
    }
   ],
   "source": [
    "conn.exec_driver_sql(\"SELECT \"\n",
    "                      \"  name \" \n",
    "                      \"FROM \" \n",
    "                      \"   Company \"\n",
    "                      \" UNION \"\n",
    "                      \"SELECT \"\n",
    "                      \"  name \" \n",
    "                      \"FROM \" \n",
    "                      \"   Passangers \"\n",
    "                      ).fetchall()"
   ]
  }
 ],
 "metadata": {
  "kernelspec": {
   "display_name": "Python 3",
   "language": "python",
   "name": "python3"
  },
  "language_info": {
   "codemirror_mode": {
    "name": "ipython",
    "version": 3
   },
   "file_extension": ".py",
   "mimetype": "text/x-python",
   "name": "python",
   "nbconvert_exporter": "python",
   "pygments_lexer": "ipython3",
   "version": "3.8.10"
  },
  "orig_nbformat": 4
 },
 "nbformat": 4,
 "nbformat_minor": 2
}
