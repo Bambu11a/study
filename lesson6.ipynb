{
 "cells": [
  {
   "cell_type": "code",
   "execution_count": 2,
   "metadata": {},
   "outputs": [],
   "source": [
    "from typing import List\n",
    "import random"
   ]
  },
  {
   "cell_type": "code",
   "execution_count": 15,
   "metadata": {},
   "outputs": [],
   "source": [
    "def get_min_max(st:str) -> tuple[int,int]:\n",
    "    \"\"\"\n",
    "    find maximum and minimum number in a string.\n",
    "    :param st:string of numbers.\n",
    "    :return: maximum and minimum numbers.\n",
    "    \n",
    "    \n",
    "    \n",
    "    \"\"\"\n",
    "\n",
    "    lst = [int(i) for i in st.split()]\n",
    "\n",
    "    min_v = lst[0]\n",
    "    max_v = lst[0]\n",
    "\n",
    "    for i in lst:\n",
    "        if i < min_v:\n",
    "            min_v = i\n",
    "        if i > max_v:\n",
    "            max_v = i\n",
    "\n",
    "\n",
    "\n",
    "    return min(lst),max(lst) "
   ]
  },
  {
   "cell_type": "code",
   "execution_count": 16,
   "metadata": {},
   "outputs": [
    {
     "name": "stdout",
     "output_type": "stream",
     "text": [
      "(1, 34534)\n"
     ]
    }
   ],
   "source": [
    "print(get_min_max(\"    2 1 3 4 234 354 34534 345\"))"
   ]
  },
  {
   "cell_type": "code",
   "execution_count": 5,
   "metadata": {},
   "outputs": [],
   "source": [
    "def pin(st:str) -> bool:\n",
    "    \"\"\"\n",
    "    chek pin consist 4 or 6 int.\n",
    "    :param st:string PIN.\n",
    "    :return: True or False   \n",
    "    \"\"\"\n",
    "\n",
    "    if len(st)==4 or len(st)==6:\n",
    "        try:\n",
    "           val = int(st)\n",
    "           return True\n",
    "        except:\n",
    "            return False\n",
    "    else:\n",
    "        return False "
   ]
  },
  {
   "cell_type": "code",
   "execution_count": 13,
   "metadata": {},
   "outputs": [
    {
     "name": "stdout",
     "output_type": "stream",
     "text": [
      "False\n"
     ]
    }
   ],
   "source": [
    "print(pin(\"5747.5\"))"
   ]
  },
  {
   "cell_type": "code",
   "execution_count": 21,
   "metadata": {},
   "outputs": [],
   "source": [
    "def square_val(lst:list) -> List:\n",
    "    \"\"\"\n",
    "    checks number is a square number.\n",
    "    :param lst: list of numbers.\n",
    "    :return: filtered list of square numbers.\n",
    "    \"\"\"\n",
    "    square_val_lst = []\n",
    "    for i in lst:\n",
    "        if i >=0 and (i**0.5)%1 == 0:\n",
    "            square_val_lst.append(i)\n",
    "\n",
    "    return(square_val_lst)"
   ]
  },
  {
   "cell_type": "code",
   "execution_count": 22,
   "metadata": {},
   "outputs": [
    {
     "name": "stdout",
     "output_type": "stream",
     "text": [
      "[1, 9, 144, 0]\n"
     ]
    }
   ],
   "source": [
    "print(square_val([1,232,123,9,5,144, -9, 0]))"
   ]
  },
  {
   "cell_type": "code",
   "execution_count": 25,
   "metadata": {},
   "outputs": [],
   "source": [
    "def unique_in_order(lst:list) -> List:\n",
    "    \"\"\"\n",
    "    return list without duplicate numbers. \n",
    "    :param lst: list of numbers.\n",
    "    :return: filtered list without duplicate numbers.\n",
    "    \"\"\"\n",
    "    new_lst = []\n",
    "    for i in range(len(lst)-1):\n",
    "        if lst[i] != lst[i+1]:\n",
    "            new_lst.append(lst[i])\n",
    "    new_lst.append(lst[-1])\n",
    "    return new_lst"
   ]
  },
  {
   "cell_type": "code",
   "execution_count": 26,
   "metadata": {},
   "outputs": [
    {
     "name": "stdout",
     "output_type": "stream",
     "text": [
      "[1, 2, 4, 6, 2, 6, 867, 4]\n"
     ]
    }
   ],
   "source": [
    "print(unique_in_order([1,1,2,4,6,2,2,6,867,4,4]))"
   ]
  },
  {
   "cell_type": "code",
   "execution_count": 36,
   "metadata": {},
   "outputs": [],
   "source": [
    "def get_min_word(st:str) -> int:\n",
    "    \"\"\"\n",
    "    find  len of shortest word in the string.\n",
    "    :param st: string  words.\n",
    "    :return:len shortest word.\n",
    "    \n",
    "    \n",
    "    \n",
    "    \"\"\"\n",
    "    lst = st.split()\n",
    "    min_len = len(lst[0])\n",
    "\n",
    "    for i in lst[1:]:\n",
    "        if len(i) < min_len:\n",
    "            min_len = len(i)\n",
    "    return min_len"
   ]
  },
  {
   "cell_type": "code",
   "execution_count": 37,
   "metadata": {},
   "outputs": [
    {
     "name": "stdout",
     "output_type": "stream",
     "text": [
      "1\n"
     ]
    }
   ],
   "source": [
    "print(get_min_word(\"gfgfgf asd 6 adasdmb mvxc\"))"
   ]
  },
  {
   "cell_type": "code",
   "execution_count": 9,
   "metadata": {},
   "outputs": [],
   "source": [
    "def dig_rt(n:int) -> int:\n",
    "    \"\"\"\n",
    "    get  digital root.\n",
    "    :param n:  number to calculate digital root.\n",
    "    :return: digital root\n",
    "    \n",
    "    \n",
    "    \n",
    "    \"\"\"\n",
    "\n",
    "    sum = 0\n",
    "    for i in str(n):\n",
    "        sum+= int(i)\n",
    "    if sum > 9:\n",
    "        return dig_rt(sum)\n",
    "    else:\n",
    "        return sum"
   ]
  },
  {
   "cell_type": "code",
   "execution_count": 10,
   "metadata": {},
   "outputs": [
    {
     "name": "stdout",
     "output_type": "stream",
     "text": [
      "2\n"
     ]
    }
   ],
   "source": [
    "print(dig_rt(99992))"
   ]
  },
  {
   "cell_type": "code",
   "execution_count": 15,
   "metadata": {},
   "outputs": [],
   "source": [
    "def middle_val(st:str) -> str:\n",
    "    \"\"\"\n",
    "    returns the middle symbol in string .\n",
    "    :param st: the word.\n",
    "    :return: the middle character.\n",
    "    \n",
    "    \"\"\"\n",
    "    if len(st)%2 == 0:\n",
    "        return st[int(len(st)/2)] + st[int(len(st)/2 - 1)]\n",
    "    else:\n",
    "        return st[len(st)//2]"
   ]
  },
  {
   "cell_type": "code",
   "execution_count": 16,
   "metadata": {},
   "outputs": [
    {
     "name": "stdout",
     "output_type": "stream",
     "text": [
      "if\n"
     ]
    }
   ],
   "source": [
    "print(middle_val(\"Gfif\"))\n"
   ]
  },
  {
   "cell_type": "code",
   "execution_count": 108,
   "metadata": {},
   "outputs": [],
   "source": [
    "def prime_num(n : int) -> bool:\n",
    "    \"\"\"\n",
    "    check num is prime.\n",
    "    :param n: num.\n",
    "    :return: True or False\n",
    "\n",
    "    \"\"\"\n",
    "\n",
    "    if n ==2 :\n",
    "        return True\n",
    "\n",
    "    elif n < 2 or n%2 == 0:\n",
    "        return False\n",
    "    \n",
    "    else:\n",
    "        i = 3\n",
    "        val = n**0.5\n",
    "        while i < val:\n",
    "            if n%i == 0:\n",
    "                return False\n",
    "            i+=2\n",
    "        return True\n"
   ]
  },
  {
   "cell_type": "code",
   "execution_count": 109,
   "metadata": {},
   "outputs": [
    {
     "name": "stdout",
     "output_type": "stream",
     "text": [
      "True\n"
     ]
    }
   ],
   "source": [
    "print(prime_num(2))"
   ]
  },
  {
   "cell_type": "code",
   "execution_count": 37,
   "metadata": {},
   "outputs": [],
   "source": [
    "def odd_sum(lst:list) -> str:\n",
    "    \"\"\"\n",
    "    checks sum numbers in  list is even or odd.\n",
    "    :param lst:  list of int.\n",
    "    :return: \"Четное\" or \"Нечётное\"\n",
    "\n",
    "    \"\"\"\n",
    "    return \"Нечётное\" if sum(lst)%2!=0 else \"Чётное\""
   ]
  },
  {
   "cell_type": "code",
   "execution_count": 38,
   "metadata": {},
   "outputs": [
    {
     "name": "stdout",
     "output_type": "stream",
     "text": [
      "Чётное\n"
     ]
    }
   ],
   "source": [
    "print(odd_sum([11, 1]))"
   ]
  },
  {
   "attachments": {},
   "cell_type": "markdown",
   "metadata": {},
   "source": [
    "Дополнительная задача с часами "
   ]
  },
  {
   "cell_type": "code",
   "execution_count": 13,
   "metadata": {},
   "outputs": [],
   "source": [
    "from functools import reduce\n",
    "\n",
    "\n",
    "def hourglass(size:int) -> List[List[int]]:\n",
    "    \n",
    "    \"\"\"\n",
    "    creates hourglass matrix.\n",
    "    :param size: integer size  matrix.\n",
    "    :return: hourglass matrix.\n",
    "    \"\"\"\n",
    "\n",
    "    lst = [[random.randint(0, 9999)for i in range(size)] for i in range(size)]\n",
    "    for j in range(size):\n",
    "        if j <(size)//2 :\n",
    "            for i in range(j+1, size - j-1):\n",
    "                lst[i][j] = 0\n",
    "        else:\n",
    "            for i in range(size-j, j):\n",
    "                lst[i][j] = 0\n",
    "\n",
    "    for i in lst:\n",
    "        print(i)\n",
    "    return lst\n",
    "\n",
    "\n",
    "def get_sum(lst:list) -> int:\n",
    "    \"\"\"\n",
    "    calculates  sum of the elements that in hourglass.\n",
    "    :param lst: the hourglass matrix.\n",
    "    :return: the sum element\n",
    "    \"\"\"\n",
    "    val = 0\n",
    "    for i in lst:\n",
    "        val = reduce(lambda x,y: x + y, list(filter(lambda x:x != 1, i)), val) \n",
    "\n",
    "    return val"
   ]
  },
  {
   "cell_type": "code",
   "execution_count": 14,
   "metadata": {},
   "outputs": [
    {
     "name": "stdout",
     "output_type": "stream",
     "text": [
      "[6228, 1999, 7764, 4204, 8639]\n",
      "[0, 1819, 7136, 3581, 0]\n",
      "[0, 0, 3648, 0, 0]\n",
      "[0, 9248, 4745, 2542, 0]\n",
      "[9580, 887, 6991, 7050, 175]\n",
      "86236\n"
     ]
    }
   ],
   "source": [
    "\n",
    "print(get_sum(hourglass(5)))"
   ]
  }
 ],
 "metadata": {
  "kernelspec": {
   "display_name": "Python 3",
   "language": "python",
   "name": "python3"
  },
  "language_info": {
   "codemirror_mode": {
    "name": "ipython",
    "version": 3
   },
   "file_extension": ".py",
   "mimetype": "text/x-python",
   "name": "python",
   "nbconvert_exporter": "python",
   "pygments_lexer": "ipython3",
   "version": "3.12.3"
  },
  "orig_nbformat": 4
 },
 "nbformat": 4,
 "nbformat_minor": 2
}
