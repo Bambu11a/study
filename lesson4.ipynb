{
 "cells": [
  {
   "cell_type": "markdown",
   "metadata": {},
   "source": [
    "1. Написать функцию, вычисляющее значение функции при х = 1.79"
   ]
  },
  {
   "cell_type": "code",
   "execution_count": 1,
   "metadata": {},
   "outputs": [],
   "source": [
    "from math import cos, sin, log, e, pi\n",
    "\n",
    "def func(x):\n",
    "    return (cos(e**x) + log((1+x)**2) + (e**cos(x) + (sin(pi*x))**2)**0.5 + (1/x)**0.5 + cos(x**2))**sin(x)"
   ]
  },
  {
   "cell_type": "code",
   "execution_count": 2,
   "metadata": {},
   "outputs": [
    {
     "name": "stdout",
     "output_type": "stream",
     "text": [
      "3.7230820101533415\n"
     ]
    }
   ],
   "source": [
    "print(func(1.79))"
   ]
  },
  {
   "cell_type": "markdown",
   "metadata": {},
   "source": [
    "2. Напишите функцию search_substr(subst, st), которая принимает 2 строки и\n",
    "определяет, имеется ли подстрока subst в строке st. В случае нахождения\n",
    "подстроки, возвращается фраза «Есть контакт!», а иначе «Мимо!». Должно\n",
    "быть найдено совпадение независимо от регистра обеих строк"
   ]
  },
  {
   "cell_type": "code",
   "execution_count": 3,
   "metadata": {},
   "outputs": [],
   "source": [
    "def search_substr(subst, st):\n",
    "    return \"Есть контакт!\" if subst.lower() in st else \"Мимо!\""
   ]
  },
  {
   "cell_type": "code",
   "execution_count": 5,
   "metadata": {},
   "outputs": [
    {
     "name": "stdout",
     "output_type": "stream",
     "text": [
      "Мимо!\n"
     ]
    }
   ],
   "source": [
    "print(search_substr(\"cda\", \"cdcdcdcdc\"))"
   ]
  },
  {
   "cell_type": "markdown",
   "metadata": {},
   "source": [
    "3. На основании строки определить 3 наиболее часто встречаемых символа в\n",
    "ней. Пробелы нужно игнорировать (не учитывать при подсчете). Для простоты\n",
    "подсчета количества вхождений символов удобно использовать Counter из\n",
    "модуля collections."
   ]
  },
  {
   "cell_type": "code",
   "execution_count": 6,
   "metadata": {},
   "outputs": [],
   "source": [
    "import collections\n",
    "def get_3_most_com_symbol(st):\n",
    "    new_st = st.split()\n",
    "    new_st = \"\".join(new_st)\n",
    "    return collections.Counter(new_st).most_common(3)"
   ]
  },
  {
   "cell_type": "code",
   "execution_count": 3,
   "metadata": {},
   "outputs": [
    {
     "name": "stdout",
     "output_type": "stream",
     "text": [
      "{'s': 2, 'a': 1, 'd': 1}\n"
     ]
    }
   ],
   "source": [
    "def get_com_(st):\n",
    "    dic ={}\n",
    "    for i in st.lower():\n",
    "        if i not in dic:\n",
    "            dic[i] = 1\n",
    "        else:\n",
    "            dic[i]+=1\n",
    "    print(dic)\n",
    "get_com_(\"sasd\")\n"
   ]
  },
  {
   "cell_type": "code",
   "execution_count": null,
   "metadata": {},
   "outputs": [],
   "source": []
  },
  {
   "cell_type": "code",
   "execution_count": 7,
   "metadata": {},
   "outputs": [
    {
     "name": "stdout",
     "output_type": "stream",
     "text": [
      "[('a', 14), ('d', 9), ('b', 8)]\n"
     ]
    }
   ],
   "source": [
    "print(get_3_most_com_symbol(\"abarbababrbabsdbbasdasd asdasd da sdada s      asd a                \"))"
   ]
  },
  {
   "cell_type": "markdown",
   "metadata": {},
   "source": [
    "4. Дана строка в виде случайной последовательности чисел от 0 до 9. Требуется\n",
    "создать словарь, который в качестве ключей будет принимать данные числа (т.\n",
    "е. ключи будут типом int), а в качестве значений – количество этих чисел в\n",
    "имеющейся последовательности. Для построения словаря создайте функцию\n",
    "count_it(sequence), принимающую строку из цифр. Функция должна\n",
    "возвратить словарь из 3-х самых часто встречаемых чисел"
   ]
  },
  {
   "cell_type": "code",
   "execution_count": 21,
   "metadata": {},
   "outputs": [],
   "source": [
    "import collections\n",
    "\n",
    "def count_it(sequence):\n",
    "    dict_count_it = {}\n",
    "    dic_count = collections.Counter(sequence).most_common(3)\n",
    "    for i in dic_count:\n",
    "       dict_count_it[int(i[0])] = i[1]\n",
    "    return dict_count_it"
   ]
  },
  {
   "cell_type": "code",
   "execution_count": 23,
   "metadata": {},
   "outputs": [
    {
     "name": "stdout",
     "output_type": "stream",
     "text": [
      "('9', 8)\n",
      "('0', 7)\n",
      "('3', 6)\n",
      "{9: 8, 0: 7, 3: 6}\n"
     ]
    }
   ],
   "source": [
    "print(count_it(\"0991323901209390322030491219454592034\"))"
   ]
  },
  {
   "cell_type": "markdown",
   "metadata": {},
   "source": [
    "5. Шахматы. у вас есть стандартное поле 8*8, после введения координат (a, b)\n",
    "нахождения вашей фигуры и фигуры соперника (с, d), необходимо получить\n",
    "ответ, угрожает ли вражеская фигура вам"
   ]
  },
  {
   "cell_type": "code",
   "execution_count": 33,
   "metadata": {},
   "outputs": [],
   "source": [
    "def check(my_pos, en_pos):\n",
    "    if not 0 <= my_pos[0] <= 8 and not 0 <= my_pos[1] <= 8 and not 0 <= en_pos[0] <= 8 and not 0 <= en_pos[1] <= 8:\n",
    "        return \"Не правильные позиции фигур\"\n",
    "    if (abs(my_pos[0] - en_pos[0]) == 2 and abs(my_pos[1] - en_pos[1]) == 1) or (abs(my_pos[0] - en_pos[0]) == 1 and abs(my_pos[1] - en_pos[1]) == 2):\n",
    "        return \"Конь угрожает вашей фигуре\"\n",
    "    \n",
    "    if my_pos[0] == en_pos[0] or my_pos[1] == en_pos[1] or abs(my_pos[0] - en_pos[0]) == abs(my_pos[1] - en_pos[1]):\n",
    "        return \"Ферзь угрожает вашей фигуре\"\n",
    "    return \"Ничего не угрожает вашей фигуре\"\n"
   ]
  },
  {
   "cell_type": "code",
   "execution_count": 34,
   "metadata": {},
   "outputs": [],
   "source": [
    "a = 1\n",
    "b = 2\n",
    "c = 3\n",
    "d = 3"
   ]
  },
  {
   "cell_type": "code",
   "execution_count": 35,
   "metadata": {},
   "outputs": [
    {
     "name": "stdout",
     "output_type": "stream",
     "text": [
      "Конь угрожает вашей фигуре\n"
     ]
    }
   ],
   "source": [
    "my_pos = [a,b]\n",
    "en_pos = [c,d]\n",
    "print(check(my_pos, en_pos))"
   ]
  },
  {
   "cell_type": "markdown",
   "metadata": {},
   "source": [
    "Сложная задача\n",
    "Шахматы. у вас есть стандартное поле 8*8, после введения координат (a, b)\n",
    "нахождения вашей фигуры конь и фигуры соперника (с, d). Необходимо определить,\n",
    "угрожаете ли вы сопернику, с учетом того, что у вас есть ход. (проверить состояние\n",
    "до и после хода, координаты хода рассчитывается автоматически, соперник стоит на\n",
    "месте)"
   ]
  },
  {
   "cell_type": "code",
   "execution_count": 5,
   "metadata": {},
   "outputs": [],
   "source": [
    "def knight_get_cord(pos):\n",
    "    a, b = pos[0], pos[1]\n",
    "    new_coord =[]\n",
    "    if 0 <= a - 2 and 0 <= b - 1 <= 8:\n",
    "        new_coord.append([a - 2, b - 1])\n",
    "    if 0<=a - 2 and 0 <= b + 1 <= 8:\n",
    "        new_coord.append([a - 2, b + 1])\n",
    "    if 0 <= a + 2 and 0 <= b - 1 <= 8:\n",
    "        new_coord.append([a + 2, b - 1])\n",
    "    if 0<=a + 2 and 0 <= b + 1 <= 8:\n",
    "        new_coord.append([a + 2, b + 1])\n",
    "    if 0 <= a - 1 and 0 <= b - 2 <= 8:\n",
    "        new_coord.append([a - 1, b - 2])\n",
    "    if 0<=a - 1 and 0 <= b + 2 <= 8:\n",
    "        new_coord.append([a - 1, b + 2])\n",
    "    if 0 <= a + 1 and 0 <= b - 1 <= 8:\n",
    "        new_coord.append([a + 1, b - 2])\n",
    "    if 0<=a + 1 and 0 <= b + 2 <= 8:\n",
    "        new_coord.append([a - 1, b +2])\n",
    "    return new_coord\n",
    "\n",
    "def check_knight_move(my_pos, en_pos):\n",
    "    new_coord = knight_get_cord(my_pos)\n",
    "    if en_pos in new_coord:\n",
    "        return \"конь угрожает фигуре\"\n",
    "    for i in new_coord:\n",
    "        if en_pos in knight_get_cord(i):\n",
    "            return f\"Конь угрожает фигуре в позиции {i}\"\n",
    "    return \"конь не угрожает\"\n",
    "    \n",
    " \n"
   ]
  },
  {
   "cell_type": "code",
   "execution_count": 6,
   "metadata": {},
   "outputs": [
    {
     "name": "stdout",
     "output_type": "stream",
     "text": [
      "Конь угрожает фигуре в позиции [5, 5]\n"
     ]
    }
   ],
   "source": [
    "a = 3\n",
    "b = 6\n",
    "c = 7\n",
    "d = 4\n",
    "my_pos = [a,b]\n",
    "en_pos = [c,d]\n",
    "print(check_knight_move(my_pos, en_pos))"
   ]
  }
 ],
 "metadata": {
  "kernelspec": {
   "display_name": "Python 3",
   "language": "python",
   "name": "python3"
  },
  "language_info": {
   "codemirror_mode": {
    "name": "ipython",
    "version": 3
   },
   "file_extension": ".py",
   "mimetype": "text/x-python",
   "name": "python",
   "nbconvert_exporter": "python",
   "pygments_lexer": "ipython3",
   "version": "3.12.3"
  }
 },
 "nbformat": 4,
 "nbformat_minor": 2
}
