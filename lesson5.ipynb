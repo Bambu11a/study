{
 "cells": [
  {
   "cell_type": "markdown",
   "metadata": {},
   "source": [
    "1. Напишите функцию для разделения строки и преобразования ее в список\n",
    "слов. Пример \"Robin Singh\" ==> [\"Robin\", \"Singh\"]"
   ]
  },
  {
   "cell_type": "code",
   "execution_count": 1,
   "metadata": {},
   "outputs": [
    {
     "name": "stdout",
     "output_type": "stream",
     "text": [
      "['adasdasda', 'asda', 'sas']\n"
     ]
    }
   ],
   "source": [
    "def split_str(st):\n",
    "    space_index = -1\n",
    "    split_st = []\n",
    "    for i in range(len(st)):\n",
    "        if st[i] == \" \":\n",
    "            if st[space_index+1:i]!=\"\":\n",
    "                split_st.append(st[space_index+1:i])\n",
    "            space_index = i\n",
    "\n",
    "    return split_st\n",
    "\n",
    "print(split_str(\"adasdasda  asda sas dasd\"))"
   ]
  },
  {
   "attachments": {},
   "cell_type": "markdown",
   "metadata": {},
   "source": [
    "1. Напишите функцию для разделения строки и преобразования ее в список\n",
    "слов. Пример \"Robin Singh\" ==> [\"Robin\", \"Singh\"]\n",
    "2. Натан любит кататься на велосипеде. Поскольку Натан знает, как важно\n",
    "избегать обезвоживания, он выпивает 0,5 литра воды за час езды на\n",
    "велосипеде. Вам дано время в часах, и вам нужно вернуть количество\n",
    "литров, которое выпьет Натан, округленное до наименьшего значения.\n",
    "Пример time = 3 ----> litres = 1"
   ]
  },
  {
   "cell_type": "code",
   "execution_count": 2,
   "metadata": {},
   "outputs": [
    {
     "name": "stdout",
     "output_type": "stream",
     "text": [
      "2\n"
     ]
    }
   ],
   "source": [
    "def water_counter(n):\n",
    "    return n//2\n",
    "\n",
    "print(water_counter(5))"
   ]
  },
  {
   "cell_type": "markdown",
   "metadata": {},
   "source": [
    "3. Создайте функцию, которая возвращает список целых чисел от n до 1,\n",
    "где n>0. Пример: n=5-->[5,4,3,2,1]"
   ]
  },
  {
   "cell_type": "code",
   "execution_count": 3,
   "metadata": {},
   "outputs": [
    {
     "name": "stdout",
     "output_type": "stream",
     "text": [
      "[5, 4, 3, 2, 1]\n"
     ]
    }
   ],
   "source": [
    "def flip_list(n):\n",
    "    return [i for i in range(n,0,-1)]\n",
    "\n",
    "\n",
    "print(flip_list(5))"
   ]
  },
  {
   "cell_type": "markdown",
   "metadata": {},
   "source": [
    "4. Учитывая год, верните столетие, в котором он находится.\n",
    "Пример 1705 --> 18 1900 --> 19 1601 --> 17"
   ]
  },
  {
   "cell_type": "code",
   "execution_count": 5,
   "metadata": {},
   "outputs": [
    {
     "name": "stdout",
     "output_type": "stream",
     "text": [
      "20\n"
     ]
    }
   ],
   "source": [
    "import math\n",
    "\n",
    "def get_century(n):\n",
    "    return n//100 + math.ceil((n%100)/100)\n",
    "\n",
    "print(get_century(1901))"
   ]
  },
  {
   "cell_type": "markdown",
   "metadata": {},
   "source": [
    "5. Учитывая случайное неотрицательное число, вам необходимо вернуть\n",
    "цифры этого числа в массиве в обратном порядке. 35231 => [1,3,2,5,3]"
   ]
  },
  {
   "cell_type": "code",
   "execution_count": null,
   "metadata": {},
   "outputs": [],
   "source": [
    "def int_to_flip_list(n):\n",
    "    lst = []\n",
    "    n = str(n)\n",
    "    for i in range(len(n)-1, -1,-1):\n",
    "        lst.append(int(n[i]))\n",
    "    print(lst)\n",
    "\n",
    "int_to_flip_list(51231)"
   ]
  },
  {
   "cell_type": "markdown",
   "metadata": {},
   "source": [
    "6. Получить квадратные матрицы порядка n (через список как на\n",
    "занятии), элементами которых являются заданные\n",
    "действительные числа 1, 2, ..., n*n, расположенные в ней по схемам,\n",
    "которые приведены на рисунках"
   ]
  },
  {
   "cell_type": "code",
   "execution_count": 6,
   "metadata": {},
   "outputs": [
    {
     "name": "stdout",
     "output_type": "stream",
     "text": [
      "[1, 2, 3, 4, 5]\n",
      "[10, 9, 8, 7, 6]\n",
      "[11, 12, 13, 14, 15]\n",
      "[20, 19, 18, 17, 16]\n",
      "[21, 22, 23, 24, 25]\n",
      "\n",
      "[1, 14, 15, 28, 29, 42, 43]\n",
      "[2, 13, 16, 27, 30, 41, 44]\n",
      "[3, 12, 17, 26, 31, 40, 45]\n",
      "[4, 11, 18, 25, 32, 39, 46]\n",
      "[5, 10, 19, 24, 33, 38, 47]\n",
      "[6, 9, 20, 23, 34, 37, 48]\n",
      "[7, 8, 21, 22, 35, 36, 49]\n"
     ]
    }
   ],
   "source": [
    "def different_matrix1(n):\n",
    "    matrix1 =[[0 for i in range(n)] for i in range(n)]\n",
    "    \n",
    "\n",
    "    for i in range(len(matrix1)):\n",
    "        if i%2 == 0:\n",
    "            for j in range(n):\n",
    "                matrix1[i][j] = i*n + (j +1)\n",
    "        else:\n",
    "            for j in range(n):\n",
    "                matrix1[i][j] = i*n + (n-j)\n",
    "    for i in matrix1:\n",
    "        print(i)\n",
    "    print()\n",
    "def different_matrix2(n):\n",
    "    matrix2 =[[0 for i in range(n)] for i in range(n)]\n",
    "    for i in range(len(matrix2)):\n",
    "        if i%2 == 0:\n",
    "            for j in range(n):\n",
    "                matrix2[j][i] = i*n + (j +1)\n",
    "        else:\n",
    "            for j in range(n):\n",
    "                matrix2[j][i] = i*n + (n-j)\n",
    "    for i in matrix2:\n",
    "        print(i)\n",
    "\n",
    "different_matrix1(5) \n",
    "different_matrix2(7)     "
   ]
  }
 ],
 "metadata": {
  "kernelspec": {
   "display_name": "Python 3",
   "language": "python",
   "name": "python3"
  },
  "language_info": {
   "codemirror_mode": {
    "name": "ipython",
    "version": 3
   },
   "file_extension": ".py",
   "mimetype": "text/x-python",
   "name": "python",
   "nbconvert_exporter": "python",
   "pygments_lexer": "ipython3",
   "version": "3.8.10"
  },
  "orig_nbformat": 4
 },
 "nbformat": 4,
 "nbformat_minor": 2
}
